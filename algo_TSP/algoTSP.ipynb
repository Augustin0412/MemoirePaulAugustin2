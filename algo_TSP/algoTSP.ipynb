{
 "cells": [
  {
   "attachments": {},
   "cell_type": "markdown",
   "metadata": {},
   "source": [
    "<strong>Algorithme du voyageur de commerce (TSP)</strong>"
   ]
  },
  {
   "cell_type": "code",
   "execution_count": 4,
   "metadata": {},
   "outputs": [],
   "source": [
    "import json\n",
    "from pprint import pprint"
   ]
  },
  {
   "cell_type": "code",
   "execution_count": 7,
   "metadata": {},
   "outputs": [
    {
     "name": "stdout",
     "output_type": "stream",
     "text": [
      "Le fichier GeoJSON reanimation.geojson contient 310 features.\n"
     ]
    }
   ],
   "source": [
    "### comptons le nombre de features de notre jeu de données\n",
    "with open('../data/reanimation.geojson') as f:\n",
    "    data = json.load(f)\n",
    "\n",
    "num_features = len(data['features'])\n",
    "\n",
    "print(\"Le fichier GeoJSON reanimation.geojson contient\", num_features, \"features.\")\n"
   ]
  },
  {
   "cell_type": "markdown",
   "metadata": {},
   "source": [
    "<strong>nous allons supprimer tous les features où la geometry est un polygon</strong>"
   ]
  }
 ],
 "metadata": {
  "kernelspec": {
   "display_name": "Python 3",
   "language": "python",
   "name": "python3"
  },
  "language_info": {
   "codemirror_mode": {
    "name": "ipython",
    "version": 3
   },
   "file_extension": ".py",
   "mimetype": "text/x-python",
   "name": "python",
   "nbconvert_exporter": "python",
   "pygments_lexer": "ipython3",
   "version": "3.9.6"
  },
  "orig_nbformat": 4
 },
 "nbformat": 4,
 "nbformat_minor": 2
}
