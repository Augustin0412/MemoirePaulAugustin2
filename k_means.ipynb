{
 "cells": [
  {
   "attachments": {},
   "cell_type": "markdown",
   "metadata": {},
   "source": [
    "Test algorithme des K-means"
   ]
  },
  {
   "cell_type": "code",
   "execution_count": 5,
   "metadata": {},
   "outputs": [
    {
     "name": "stdout",
     "output_type": "stream",
     "text": [
      "[0 2 0 0 1 1 1 1 1 2 1 2 1 2 1 1 2 2 0 2 1 0 2 1 1 1 1 0 0 2 2 2 2 2 0 2 0\n",
      " 0 0 2 0 0 2 2 2 2 0 0 1 1 2 1 2 0 2 1 2 0 1 1 2 2 2 2 0 0 0 0 2 1 1 2 0 1\n",
      " 2 0 0 1 0 1 2 2 2 2 2 1 1 1 0 1 2 2 0 2 2 1 0 1 0 2]\n",
      "[[0.73844811 0.77760572]\n",
      " [0.23289609 0.58563592]\n",
      " [0.62698588 0.24866608]]\n"
     ]
    },
    {
     "name": "stderr",
     "output_type": "stream",
     "text": [
      "c:\\Users\\paulp\\AppData\\Local\\Programs\\Python\\Python311\\Lib\\site-packages\\sklearn\\cluster\\_kmeans.py:870: FutureWarning: The default value of `n_init` will change from 10 to 'auto' in 1.4. Set the value of `n_init` explicitly to suppress the warning\n",
      "  warnings.warn(\n"
     ]
    }
   ],
   "source": [
    "from sklearn.cluster import KMeans\n",
    "import numpy as np\n",
    "\n",
    "# Générer des données aléatoires\n",
    "X = np.random.rand(100, 2)\n",
    "# print(X)\n",
    "\n",
    "# Initialiser l'algorithme des K-means avec 3 clusters\n",
    "kmeans = KMeans(n_clusters=3)\n",
    "\n",
    "# Exécuter l'algorithme des K-means sur les données\n",
    "kmeans.fit(X)\n",
    "\n",
    "# Prédire le cluster associé à chaque point\n",
    "labels = kmeans.predict(X)\n",
    "\n",
    "# Afficher les labels prédits pour chaque point\n",
    "print(labels)   #numéro du cluster pour chaque donnée\n",
    "print(kmeans.cluster_centers_)  #position centre cluster\n"
   ]
  }
 ],
 "metadata": {
  "kernelspec": {
   "display_name": "Python 3",
   "language": "python",
   "name": "python3"
  },
  "language_info": {
   "codemirror_mode": {
    "name": "ipython",
    "version": 3
   },
   "file_extension": ".py",
   "mimetype": "text/x-python",
   "name": "python",
   "nbconvert_exporter": "python",
   "pygments_lexer": "ipython3",
   "version": "3.11.2"
  },
  "orig_nbformat": 4
 },
 "nbformat": 4,
 "nbformat_minor": 2
}
